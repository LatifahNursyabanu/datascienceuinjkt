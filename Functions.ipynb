{
  "nbformat": 4,
  "nbformat_minor": 0,
  "metadata": {
    "kernelspec": {
      "display_name": "Python 3",
      "language": "python",
      "name": "python3"
    },
    "language_info": {
      "codemirror_mode": {
        "name": "ipython",
        "version": 3
      },
      "file_extension": ".py",
      "mimetype": "text/x-python",
      "name": "python",
      "nbconvert_exporter": "python",
      "pygments_lexer": "ipython3",
      "version": "3.6.7"
    },
    "colab": {
      "name": "Functions.ipynb",
      "provenance": [],
      "collapsed_sections": []
    }
  },
  "cells": [
    {
      "cell_type": "markdown",
      "metadata": {
        "id": "-wYJaF8uWcab"
      },
      "source": [
        "# Function \n",
        "What is function in python? Functions are pieces of code that perform a unit of work\n",
        "\n",
        "why using functions?? Functions is our bestfriend. it helps us to clean our code and do math so we dont have to.\n",
        "\n",
        "what is keyword in python? keyword are reserved words that are used to construct instructions"
      ]
    },
    {
      "cell_type": "markdown",
      "metadata": {
        "id": "zeUBoipTWcar"
      },
      "source": [
        "<a name='general_syntax'></a>General Syntax\n",
        "---\n"
      ]
    },
    {
      "cell_type": "markdown",
      "metadata": {
        "id": "p_WS1tYoWcat"
      },
      "source": [
        "- **Pendefinisian Fungsi**\n",
        "    - Di mulai dengan `def` keyword\n",
        "    - memberi `nama function` dengan nama yang interpretable\n",
        "    - kita membutuhkan `parameter` (it can be none or multiple)\n",
        "    - jangan lupa `:` sebelum ganti baris\n",
        "    - function sangat sensitive dengan `indentasi == consistent`\n",
        "    - `body function`, berisi langkah langkah kerja\n",
        "    - Diakhiri dengan `return` untuk menggembalikan suatu hasil."
      ]
    },
    {
      "cell_type": "code",
      "metadata": {
        "collapsed": true,
        "id": "1hX58J1DWcar"
      },
      "source": [
        "#Pendefinisian fungsi\n",
        "def nama_function(argument_1, argument_2):\n",
        "    # Langkah atau kegiatan dalam fungsi (body function)\n",
        "    return 'Nilai' #Untuk mengembalikan hasil yang diinginkan\n",
        "\n",
        "# Penggunaan fungsi yang telah didefinisikan\n",
        "nama_function(value_1, value_2)"
      ],
      "execution_count": null,
      "outputs": []
    },
    {
      "cell_type": "markdown",
      "metadata": {
        "id": "CAPU-ywyWcav"
      },
      "source": [
        "<a name='examples'></a>Contoh\n",
        "---"
      ]
    },
    {
      "cell_type": "code",
      "metadata": {
        "id": "DsF1UP9wWcaw",
        "outputId": "7b4811c2-9f25-4232-b413-2c2c77bffb92",
        "colab": {
          "base_uri": "https://localhost:8080/"
        }
      },
      "source": [
        "def describe_person(first_name, last_name, age):\n",
        "    print(\"First name:\",first_name)\n",
        "    print(\"Last name:\",last_name)\n",
        "    print(\"Age:\",age)\n",
        "    \n",
        "describe_person('Adi','Ida',55)"
      ],
      "execution_count": 10,
      "outputs": [
        {
          "output_type": "stream",
          "name": "stdout",
          "text": [
            "First name: Adi\n",
            "Last name: Ida\n",
            "Age: 55\n"
          ]
        }
      ]
    },
    {
      "cell_type": "markdown",
      "metadata": {
        "id": "d--Owc4XWcaz"
      },
      "source": [
        "<a name='default'></a>Default values\n",
        "---\n",
        "Pada argumen input dapat dimasukkan nilai yang berperan sebagai `default values`"
      ]
    },
    {
      "cell_type": "code",
      "metadata": {
        "id": "rGYcyPq7Wca0",
        "outputId": "e9fe689e-4342-4f90-eea2-bae4fe7db6cb",
        "colab": {
          "base_uri": "https://localhost:8080/"
        }
      },
      "source": [
        "def thank_you(name):\n",
        "    print(\"You are doing good work, %s!\"%name)\n",
        "    print(\"Thank you very much for your participation in DSU BATCH 2.\\n\")\n",
        "    \n",
        "thank_you('Adriana')"
      ],
      "execution_count": 13,
      "outputs": [
        {
          "output_type": "stream",
          "name": "stdout",
          "text": [
            "You are doing good work, Adriana!\n",
            "Thank you very much for your participation in DSU BATCH 2.\n",
            "\n"
          ]
        }
      ]
    },
    {
      "cell_type": "markdown",
      "metadata": {
        "id": "dD91kH3CWca2"
      },
      "source": [
        "<a name='position'></a>Positional Argument\n",
        "---\n",
        "Pada function posisi/urutan nilai yang dimasukkan berpengaruh. "
      ]
    },
    {
      "cell_type": "code",
      "metadata": {
        "id": "E_NCjBqpWca2"
      },
      "source": [
        "def describe_person(first_name, last_name, age):\n",
        "    print(\"First name:\",first_name)\n",
        "    print(\"Last name:\",last_name)\n",
        "    print(\"Age:\",age)\n",
        "    print('----------------------------')"
      ],
      "execution_count": null,
      "outputs": []
    },
    {
      "cell_type": "code",
      "metadata": {
        "id": "Y9ISRyFyWca3",
        "outputId": "73cab0a6-8ffd-4a52-b58e-b11fb421e507"
      },
      "source": [
        "describe_person('Abu','Isan',17)\n",
        "describe_person('Isan','Abu',17)\n",
        "describe_person(17,'Isan','Abu')"
      ],
      "execution_count": null,
      "outputs": [
        {
          "output_type": "stream",
          "text": [
            "First name: Abu\n",
            "Last name: Isan\n",
            "Age: 17\n",
            "----------------------------\n",
            "First name: Isan\n",
            "Last name: Abu\n",
            "Age: 17\n",
            "----------------------------\n",
            "First name: 17\n",
            "Last name: Isan\n",
            "Age: Abu\n",
            "----------------------------\n"
          ],
          "name": "stdout"
        }
      ]
    },
    {
      "cell_type": "markdown",
      "metadata": {
        "id": "3E0Tcbg3Wca4"
      },
      "source": [
        "<a name='keyword'></a>Keyword Argument\n",
        "---\n",
        "Memasukkan nilai pada argumen juga dapat dilakukan dengan memasangkannya sesuai dengan nama argumen ketika fungsi di definisikan."
      ]
    },
    {
      "cell_type": "code",
      "metadata": {
        "id": "kme5nmdBWca4",
        "outputId": "2770c627-e5b8-46d2-f2cb-a956c98a7138"
      },
      "source": [
        "describe_person(age=17,last_name='Abi',first_name='Isan')"
      ],
      "execution_count": null,
      "outputs": [
        {
          "output_type": "stream",
          "text": [
            "First name: Isan\n",
            "Last name: Abi\n",
            "Age: 17\n"
          ],
          "name": "stdout"
        }
      ]
    },
    {
      "cell_type": "markdown",
      "source": [
        "#Practice makes perfect"
      ],
      "metadata": {
        "id": "QJomnozpKPb-"
      }
    },
    {
      "cell_type": "markdown",
      "source": [
        "Buatlah function untuk menyapa temaann !!! ramah adalah salah satu kunci mencapai network yang baik :)"
      ],
      "metadata": {
        "id": "fJ-MFtK0Keap"
      }
    },
    {
      "cell_type": "code",
      "source": [
        "def greetings(nama):\n",
        "  print(\"Hello\", nama, \"welcome to data science uin jakarta!\")\n",
        "\n",
        "greetings(\"alma\")"
      ],
      "metadata": {
        "id": "_sjeGM7EK4qr",
        "outputId": "4601a899-5590-44e2-83fc-00667221fb30",
        "colab": {
          "base_uri": "https://localhost:8080/"
        }
      },
      "execution_count": 4,
      "outputs": [
        {
          "output_type": "stream",
          "name": "stdout",
          "text": [
            "Hello alma welcome to data science uin jakarta!\n"
          ]
        }
      ]
    },
    {
      "cell_type": "markdown",
      "source": [
        "Buat function yang dapat memberitahu komputer cara menghitung luas segitiga"
      ],
      "metadata": {
        "id": "V5YpxGwWIU7p"
      }
    },
    {
      "cell_type": "code",
      "source": [
        "def luas_segitiga(alas, tinggi):\n",
        "  return alas * tinggi / 2\n",
        "\n",
        "luas_a = luas_segitiga(5,4)\n",
        "print('luas segitiga a adalah ', luas_a)"
      ],
      "metadata": {
        "id": "EU6hPnHgIc7I",
        "outputId": "4382c98d-7c3b-4573-8684-b5dea5a04440",
        "colab": {
          "base_uri": "https://localhost:8080/"
        }
      },
      "execution_count": 2,
      "outputs": [
        {
          "output_type": "stream",
          "name": "stdout",
          "text": [
            "luas segitiga a adalah  10.0\n"
          ]
        }
      ]
    },
    {
      "cell_type": "markdown",
      "source": [
        "Gunakan fungsi get_seconds berikut untuk menghitung jumlah detik dalam 2 jam 30 menit, lalu tambahkan dengan jumlah detik dalam 45 menit dan 15 detik. Kemudian cetak hasilnya."
      ],
      "metadata": {
        "id": "HpBKNyUtHSgi"
      }
    },
    {
      "cell_type": "code",
      "source": [
        "def get_seconds(jam, menit, detik):\n",
        "  return 3600 * jam + 60 * menit + detik\n",
        "\n",
        "a = get_seconds(2,30,0)\n",
        "b = get_seconds(0,45,15)\n",
        "result = a + b\n",
        "print(result)"
      ],
      "metadata": {
        "id": "hraLl9e_Hd3s",
        "outputId": "f704b7c8-c13e-474b-b2a3-26d01e4aad27",
        "colab": {
          "base_uri": "https://localhost:8080/"
        }
      },
      "execution_count": 9,
      "outputs": [
        {
          "output_type": "stream",
          "name": "stdout",
          "text": [
            "11715\n"
          ]
        }
      ]
    },
    {
      "cell_type": "markdown",
      "source": [
        "Buat function sehingga komputer dapat mengonversi dari input detik ke menit dan jam"
      ],
      "metadata": {
        "id": "ubUJe8FmMwNN"
      }
    },
    {
      "cell_type": "code",
      "source": [
        "def convert_seconds(seconds):\n",
        "  hours = seconds // 3600 # A floor division divide\n",
        "  minutes = (seconds - hours * 3600) // 60\n",
        "  remaining_seconds = seconds - hours *3600 - minutes * 60\n",
        "  return hours, minutes, remaining_seconds\n",
        "\n",
        "hours, minutes, seconds = convert_seconds(5000)\n",
        "print(hours, minutes, seconds)"
      ],
      "metadata": {
        "id": "l6jIbC9xM3Sq",
        "outputId": "c1ea09b2-a4b2-4892-a9b3-431acaa39bd7",
        "colab": {
          "base_uri": "https://localhost:8080/"
        }
      },
      "execution_count": 8,
      "outputs": [
        {
          "output_type": "stream",
          "name": "stdout",
          "text": [
            "1 23 20\n"
          ]
        }
      ]
    }
  ]
}