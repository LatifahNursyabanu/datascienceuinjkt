{
  "nbformat": 4,
  "nbformat_minor": 0,
  "metadata": {
    "colab": {
      "name": "Numpy.ipynb",
      "provenance": []
    },
    "kernelspec": {
      "name": "python3",
      "display_name": "Python 3"
    },
    "language_info": {
      "name": "python"
    }
  },
  "cells": [
    {
      "cell_type": "markdown",
      "source": [
        "#NumPy\n",
        "NumPy adalah library python yang digunakan untuk bekerja dengan array. \n",
        "\n",
        "NumPy berfungsi dalam domain aljabar linier, transformasi fourier, dan matriks.\n",
        "\n",
        "NumPy menyediakan tipe array N-dimensi, ndarray, yang menjelaskan kumpulan \"item\" dari tipe yang sama.\n",
        "\n",
        "https://numpy.org/doc/stable/reference/index.html"
      ],
      "metadata": {
        "id": "88sNoetbu_Gw"
      }
    },
    {
      "cell_type": "code",
      "source": [
        "# Import module numpy\n",
        "import numpy as np\n",
        "print(np.__version__)"
      ],
      "metadata": {
        "colab": {
          "base_uri": "https://localhost:8080/"
        },
        "id": "eqtNMU9ztIA1",
        "outputId": "92716502-a44f-4ab4-c943-8f062037eca4"
      },
      "execution_count": 38,
      "outputs": [
        {
          "output_type": "stream",
          "name": "stdout",
          "text": [
            "1.21.5\n"
          ]
        }
      ]
    },
    {
      "cell_type": "markdown",
      "source": [
        "Array"
      ],
      "metadata": {
        "id": "iChHXyih5XOb"
      }
    },
    {
      "cell_type": "code",
      "source": [
        "#contoh array 1D\n",
        "a = np.array([1, 2, 3])\n",
        "a"
      ],
      "metadata": {
        "id": "5J35jvsRvRzl",
        "colab": {
          "base_uri": "https://localhost:8080/"
        },
        "outputId": "0d342067-4994-4863-e55a-491ecaed05f4"
      },
      "execution_count": 39,
      "outputs": [
        {
          "output_type": "execute_result",
          "data": {
            "text/plain": [
              "array([1, 2, 3])"
            ]
          },
          "metadata": {},
          "execution_count": 39
        }
      ]
    },
    {
      "cell_type": "code",
      "source": [
        "#contoh array 2D\n",
        "b = np.array([[1, 2, 3], [3, 4, 5], [5, 6, 7]])\n",
        "b"
      ],
      "metadata": {
        "colab": {
          "base_uri": "https://localhost:8080/"
        },
        "id": "TroMyUW6faOX",
        "outputId": "6ad75eef-e4bc-4c3f-c397-5b431862e715"
      },
      "execution_count": 40,
      "outputs": [
        {
          "output_type": "execute_result",
          "data": {
            "text/plain": [
              "array([[1, 2, 3],\n",
              "       [3, 4, 5],\n",
              "       [5, 6, 7]])"
            ]
          },
          "metadata": {},
          "execution_count": 40
        }
      ]
    },
    {
      "cell_type": "code",
      "source": [
        "#contoh array 3D\n",
        "c = np.array([[[1, 2], [2, 3]], [[3, 4], [4, 5]], [[5, 6], [6, 7]]])\n",
        "c"
      ],
      "metadata": {
        "colab": {
          "base_uri": "https://localhost:8080/"
        },
        "id": "_7S0P7ruuMll",
        "outputId": "ae0b1bc5-59a9-471f-f2ab-70852df90ff3"
      },
      "execution_count": 41,
      "outputs": [
        {
          "output_type": "execute_result",
          "data": {
            "text/plain": [
              "array([[[1, 2],\n",
              "        [2, 3]],\n",
              "\n",
              "       [[3, 4],\n",
              "        [4, 5]],\n",
              "\n",
              "       [[5, 6],\n",
              "        [6, 7]]])"
            ]
          },
          "metadata": {},
          "execution_count": 41
        }
      ]
    },
    {
      "cell_type": "code",
      "source": [
        "d = np.arange(1,10,2)\n",
        "d"
      ],
      "metadata": {
        "colab": {
          "base_uri": "https://localhost:8080/"
        },
        "id": "zlMHnkZKDh3Q",
        "outputId": "383dc96d-58ee-41ff-92f5-f8e900dae842"
      },
      "execution_count": 42,
      "outputs": [
        {
          "output_type": "execute_result",
          "data": {
            "text/plain": [
              "array([1, 3, 5, 7, 9])"
            ]
          },
          "metadata": {},
          "execution_count": 42
        }
      ]
    },
    {
      "cell_type": "code",
      "source": [
        "e = np.linspace(1,10,4)\n",
        "e"
      ],
      "metadata": {
        "colab": {
          "base_uri": "https://localhost:8080/"
        },
        "id": "9GXoV5cGD8PS",
        "outputId": "803c607d-8f8c-409c-959f-08d7280c473b"
      },
      "execution_count": 43,
      "outputs": [
        {
          "output_type": "execute_result",
          "data": {
            "text/plain": [
              "array([ 1.,  4.,  7., 10.])"
            ]
          },
          "metadata": {},
          "execution_count": 43
        }
      ]
    },
    {
      "cell_type": "code",
      "source": [
        "f = np.zeros((2,2))\n",
        "f"
      ],
      "metadata": {
        "colab": {
          "base_uri": "https://localhost:8080/"
        },
        "id": "JAVc_60fF2lc",
        "outputId": "eccff18b-b9aa-4fb1-81ac-7a14a768e93f"
      },
      "execution_count": 73,
      "outputs": [
        {
          "output_type": "execute_result",
          "data": {
            "text/plain": [
              "array([[0., 0.],\n",
              "       [0., 0.]])"
            ]
          },
          "metadata": {},
          "execution_count": 73
        }
      ]
    },
    {
      "cell_type": "code",
      "source": [
        "g = np.identity(3)\n",
        "g"
      ],
      "metadata": {
        "colab": {
          "base_uri": "https://localhost:8080/"
        },
        "id": "fnupTeUSGIH0",
        "outputId": "7d60e36a-c1d0-402e-96d5-adaf64d8ee60"
      },
      "execution_count": 45,
      "outputs": [
        {
          "output_type": "execute_result",
          "data": {
            "text/plain": [
              "array([[1., 0., 0.],\n",
              "       [0., 1., 0.],\n",
              "       [0., 0., 1.]])"
            ]
          },
          "metadata": {},
          "execution_count": 45
        }
      ]
    },
    {
      "cell_type": "code",
      "source": [
        "#Membuat array random dari 0 sampai 1\n",
        "h = np.random.rand(2,3)\n",
        "# bisa juga pakai h = np.random.random(size = [x,y])\n",
        "h"
      ],
      "metadata": {
        "colab": {
          "base_uri": "https://localhost:8080/"
        },
        "id": "9eMsBzfwfYpO",
        "outputId": "ca230ec5-a986-4ac9-f250-61eeb9cd1954"
      },
      "execution_count": 49,
      "outputs": [
        {
          "output_type": "execute_result",
          "data": {
            "text/plain": [
              "array([[0.53783116, 0.62059007, 0.28588735],\n",
              "       [0.67278648, 0.7087518 , 0.75042094]])"
            ]
          },
          "metadata": {},
          "execution_count": 49
        }
      ]
    },
    {
      "cell_type": "code",
      "source": [
        "#Membuat array integer random \n",
        "h = np.random.randint(1, 10, size = [3,3])\n",
        "h"
      ],
      "metadata": {
        "colab": {
          "base_uri": "https://localhost:8080/"
        },
        "id": "9JXz6dqOqr4G",
        "outputId": "26eb3a2e-952e-4c8e-d6fd-2ff5050c91f4"
      },
      "execution_count": 50,
      "outputs": [
        {
          "output_type": "execute_result",
          "data": {
            "text/plain": [
              "array([[1, 1, 4],\n",
              "       [5, 3, 3],\n",
              "       [2, 8, 8]])"
            ]
          },
          "metadata": {},
          "execution_count": 50
        }
      ]
    },
    {
      "cell_type": "code",
      "source": [
        "#Mendefinisikan array menggunakan fungsi dtype()\n",
        "array = np.array([1, 2.5, 'lalat', True], dtype=\"str\")\n",
        "array"
      ],
      "metadata": {
        "colab": {
          "base_uri": "https://localhost:8080/"
        },
        "id": "vmz8AN_umvwm",
        "outputId": "1d7c9e67-fa02-4a3f-a7a0-a7a7e5fad826"
      },
      "execution_count": 51,
      "outputs": [
        {
          "output_type": "execute_result",
          "data": {
            "text/plain": [
              "array(['1', '2.5', 'lalat', 'True'], dtype='<U5')"
            ]
          },
          "metadata": {},
          "execution_count": 51
        }
      ]
    },
    {
      "cell_type": "markdown",
      "source": [
        "https://numpy.org/doc/stable/reference/arrays.dtypes.html"
      ],
      "metadata": {
        "id": "3RETkkMhA0fL"
      }
    },
    {
      "cell_type": "code",
      "source": [
        "#Mengubah tipe data menggunakan fungsi astype()\n",
        "a.astype(float)"
      ],
      "metadata": {
        "colab": {
          "base_uri": "https://localhost:8080/"
        },
        "id": "7bOK7PddnYvk",
        "outputId": "378dff68-3586-47d4-ba77-54b72aaaf4f1"
      },
      "execution_count": 52,
      "outputs": [
        {
          "output_type": "execute_result",
          "data": {
            "text/plain": [
              "array([1., 2., 3.])"
            ]
          },
          "metadata": {},
          "execution_count": 52
        }
      ]
    },
    {
      "cell_type": "code",
      "source": [
        "#Mengetahui karakteristik array menggunakan .shape, .size, .ndim, .dtype\n",
        "print(\"shape: \", b.shape)\n",
        "print('Datatype: ', b.dtype)\n",
        "print('Size: ', b.size)\n",
        "print('Num Dimensions: ', b.ndim)"
      ],
      "metadata": {
        "colab": {
          "base_uri": "https://localhost:8080/"
        },
        "id": "upCnUFWABDw0",
        "outputId": "3a90fecf-f989-4d86-b1b6-982bb0daec28"
      },
      "execution_count": 54,
      "outputs": [
        {
          "output_type": "stream",
          "name": "stdout",
          "text": [
            "shape:  (3, 3)\n",
            "Datatype:  int64\n",
            "Size:  9\n",
            "Num Dimensions:  2\n"
          ]
        }
      ]
    },
    {
      "cell_type": "markdown",
      "source": [
        "Indexing dan Slicing"
      ],
      "metadata": {
        "id": "2co5BRDtqrmV"
      }
    },
    {
      "cell_type": "markdown",
      "source": [
        "Index memiliki tiga parameter, yaitu [start:stop:step] dimana indeks pertama dimulai dari nol dan diakhiri dengan n-1. \n",
        "\n",
        "Slicing menggunakan parameter seperti berikut [x :] atau [: x] atau [x : y] untuk array 1D\n",
        "\n",
        "Sedangkan indexing dalam ndarray bisa menggunakan [x , y]"
      ],
      "metadata": {
        "id": "ezJwuk1FNNLc"
      }
    },
    {
      "cell_type": "code",
      "source": [
        "x = np.array(range(10))\n",
        "x"
      ],
      "metadata": {
        "colab": {
          "base_uri": "https://localhost:8080/"
        },
        "id": "xM1JirYirZCw",
        "outputId": "ad76d175-e4f4-4985-d7f3-fe037224d9ec"
      },
      "execution_count": 55,
      "outputs": [
        {
          "output_type": "execute_result",
          "data": {
            "text/plain": [
              "array([0, 1, 2, 3, 4, 5, 6, 7, 8, 9])"
            ]
          },
          "metadata": {},
          "execution_count": 55
        }
      ]
    },
    {
      "cell_type": "code",
      "source": [
        "x[-1]"
      ],
      "metadata": {
        "colab": {
          "base_uri": "https://localhost:8080/"
        },
        "id": "2n0Sw-PZKMPa",
        "outputId": "a9082a1a-315e-4477-dc39-c25135a056d8"
      },
      "execution_count": 56,
      "outputs": [
        {
          "output_type": "execute_result",
          "data": {
            "text/plain": [
              "9"
            ]
          },
          "metadata": {},
          "execution_count": 56
        }
      ]
    },
    {
      "cell_type": "code",
      "source": [
        "x[0:7:2]"
      ],
      "metadata": {
        "colab": {
          "base_uri": "https://localhost:8080/"
        },
        "id": "2elh2ddwrlUT",
        "outputId": "78c13a87-cb37-4c06-ed25-419c99c79747"
      },
      "execution_count": 57,
      "outputs": [
        {
          "output_type": "execute_result",
          "data": {
            "text/plain": [
              "array([0, 2, 4, 6])"
            ]
          },
          "metadata": {},
          "execution_count": 57
        }
      ]
    },
    {
      "cell_type": "code",
      "source": [
        "b[0, 2]"
      ],
      "metadata": {
        "colab": {
          "base_uri": "https://localhost:8080/"
        },
        "id": "O350d3U5rq_1",
        "outputId": "252ad846-cb21-4ca8-a58b-dea60dfaaaff"
      },
      "execution_count": 58,
      "outputs": [
        {
          "output_type": "execute_result",
          "data": {
            "text/plain": [
              "3"
            ]
          },
          "metadata": {},
          "execution_count": 58
        }
      ]
    },
    {
      "cell_type": "code",
      "source": [
        "c[1:, :1]"
      ],
      "metadata": {
        "colab": {
          "base_uri": "https://localhost:8080/"
        },
        "id": "3Yc5F9_R4nDY",
        "outputId": "f293fe52-a173-42f1-f730-26ae3f2f7ef8"
      },
      "execution_count": 59,
      "outputs": [
        {
          "output_type": "execute_result",
          "data": {
            "text/plain": [
              "array([[[3, 4]],\n",
              "\n",
              "       [[5, 6]]])"
            ]
          },
          "metadata": {},
          "execution_count": 59
        }
      ]
    },
    {
      "cell_type": "code",
      "source": [
        "#boolean index\n",
        "y = b > 4\n",
        "y"
      ],
      "metadata": {
        "colab": {
          "base_uri": "https://localhost:8080/"
        },
        "id": "8RreWrwbL618",
        "outputId": "23782d93-2c80-4c1d-d852-590dc705ec57"
      },
      "execution_count": 60,
      "outputs": [
        {
          "output_type": "execute_result",
          "data": {
            "text/plain": [
              "array([[False, False, False],\n",
              "       [False, False,  True],\n",
              "       [ True,  True,  True]])"
            ]
          },
          "metadata": {},
          "execution_count": 60
        }
      ]
    },
    {
      "cell_type": "markdown",
      "source": [
        "Operasi aritmatik : +, -, /, *, **\n",
        "\n",
        "https://numpy.org/doc/stable/reference/arrays.html"
      ],
      "metadata": {
        "id": "97RaLwwr70AN"
      }
    },
    {
      "cell_type": "code",
      "source": [
        "a + 2"
      ],
      "metadata": {
        "colab": {
          "base_uri": "https://localhost:8080/"
        },
        "id": "nf2Dptue6waR",
        "outputId": "2cfe85a1-46c3-42d3-da88-abf34551099d"
      },
      "execution_count": 61,
      "outputs": [
        {
          "output_type": "execute_result",
          "data": {
            "text/plain": [
              "array([3, 4, 5])"
            ]
          },
          "metadata": {},
          "execution_count": 61
        }
      ]
    },
    {
      "cell_type": "code",
      "source": [
        "a_list = [1, 2, 3]\n",
        "a_list + 2"
      ],
      "metadata": {
        "colab": {
          "base_uri": "https://localhost:8080/",
          "height": 183
        },
        "id": "s3dZen7n62ov",
        "outputId": "20a4335e-db3c-4b7b-ede9-68e0377936fb"
      },
      "execution_count": 62,
      "outputs": [
        {
          "output_type": "error",
          "ename": "TypeError",
          "evalue": "ignored",
          "traceback": [
            "\u001b[0;31m---------------------------------------------------------------------------\u001b[0m",
            "\u001b[0;31mTypeError\u001b[0m                                 Traceback (most recent call last)",
            "\u001b[0;32m<ipython-input-62-b7a29ea9c861>\u001b[0m in \u001b[0;36m<module>\u001b[0;34m()\u001b[0m\n\u001b[1;32m      1\u001b[0m \u001b[0ma_list\u001b[0m \u001b[0;34m=\u001b[0m \u001b[0;34m[\u001b[0m\u001b[0;36m1\u001b[0m\u001b[0;34m,\u001b[0m \u001b[0;36m2\u001b[0m\u001b[0;34m,\u001b[0m \u001b[0;36m3\u001b[0m\u001b[0;34m]\u001b[0m\u001b[0;34m\u001b[0m\u001b[0;34m\u001b[0m\u001b[0m\n\u001b[0;32m----> 2\u001b[0;31m \u001b[0ma_list\u001b[0m \u001b[0;34m+\u001b[0m \u001b[0;36m2\u001b[0m\u001b[0;34m\u001b[0m\u001b[0;34m\u001b[0m\u001b[0m\n\u001b[0m",
            "\u001b[0;31mTypeError\u001b[0m: can only concatenate list (not \"int\") to list"
          ]
        }
      ]
    },
    {
      "cell_type": "code",
      "source": [
        "b_list = [3, 2, 1]\n",
        "a_list + b_list"
      ],
      "metadata": {
        "colab": {
          "base_uri": "https://localhost:8080/"
        },
        "id": "3XBjeoX7Inug",
        "outputId": "094900cf-9e06-440a-d680-01db9f7c74b9"
      },
      "execution_count": 63,
      "outputs": [
        {
          "output_type": "execute_result",
          "data": {
            "text/plain": [
              "[1, 2, 3, 3, 2, 1]"
            ]
          },
          "metadata": {},
          "execution_count": 63
        }
      ]
    },
    {
      "cell_type": "code",
      "source": [
        "a * b"
      ],
      "metadata": {
        "colab": {
          "base_uri": "https://localhost:8080/"
        },
        "id": "st7JbrJJ8HlB",
        "outputId": "c5366022-5518-4379-828a-bb0368a9e6ca"
      },
      "execution_count": 64,
      "outputs": [
        {
          "output_type": "execute_result",
          "data": {
            "text/plain": [
              "array([[ 1,  4,  9],\n",
              "       [ 3,  8, 15],\n",
              "       [ 5, 12, 21]])"
            ]
          },
          "metadata": {},
          "execution_count": 64
        }
      ]
    },
    {
      "cell_type": "markdown",
      "source": [
        "Matriks"
      ],
      "metadata": {
        "id": "XtsF1drSMqAF"
      }
    },
    {
      "cell_type": "code",
      "source": [
        "#manipulasi matriks\n",
        "b[1,2] = 100\n",
        "b"
      ],
      "metadata": {
        "colab": {
          "base_uri": "https://localhost:8080/"
        },
        "id": "FgCXMY9yMuG1",
        "outputId": "8a0a8434-558a-464d-c9ab-e264e6edca82"
      },
      "execution_count": 65,
      "outputs": [
        {
          "output_type": "execute_result",
          "data": {
            "text/plain": [
              "array([[  1,   2,   3],\n",
              "       [  3,   4, 100],\n",
              "       [  5,   6,   7]])"
            ]
          },
          "metadata": {},
          "execution_count": 65
        }
      ]
    },
    {
      "cell_type": "code",
      "source": [
        "#transpose\n",
        "b.transpose()\n",
        "np.transpose(b)\n",
        "b.T"
      ],
      "metadata": {
        "colab": {
          "base_uri": "https://localhost:8080/"
        },
        "id": "DUQNTXjWPkV1",
        "outputId": "878180c9-cace-4df1-d3e3-36cb6cb1e854"
      },
      "execution_count": 66,
      "outputs": [
        {
          "output_type": "execute_result",
          "data": {
            "text/plain": [
              "array([[  1,   3,   5],\n",
              "       [  2,   4,   6],\n",
              "       [  3, 100,   7]])"
            ]
          },
          "metadata": {},
          "execution_count": 66
        }
      ]
    },
    {
      "cell_type": "code",
      "source": [
        "#flatten matriks\n",
        "c.ravel()"
      ],
      "metadata": {
        "colab": {
          "base_uri": "https://localhost:8080/"
        },
        "id": "TttXuTqkQ_je",
        "outputId": "5d7e6205-c2c2-42ae-bb7d-7fde2f835581"
      },
      "execution_count": 67,
      "outputs": [
        {
          "output_type": "execute_result",
          "data": {
            "text/plain": [
              "array([1, 2, 2, 3, 3, 4, 4, 5, 5, 6, 6, 7])"
            ]
          },
          "metadata": {},
          "execution_count": 67
        }
      ]
    },
    {
      "cell_type": "code",
      "source": [
        "#statistik\n",
        "print(\"Mean value is: \", b.mean())\n",
        "print(\"Max value is: \", b.max())\n",
        "print(\"Min value is: \", b.min())\n",
        "print(\"Min value is: \", b.sum())"
      ],
      "metadata": {
        "id": "tzwWHFY6ROjc",
        "colab": {
          "base_uri": "https://localhost:8080/"
        },
        "outputId": "cdb301a0-7b50-4d20-dd57-2ffee5c242e5"
      },
      "execution_count": 68,
      "outputs": [
        {
          "output_type": "stream",
          "name": "stdout",
          "text": [
            "Mean value is:  14.555555555555555\n",
            "Max value is:  100\n",
            "Min value is:  1\n",
            "Min value is:  131\n"
          ]
        }
      ]
    },
    {
      "cell_type": "code",
      "source": [
        "# tile dan repeat\n",
        "print(\"tile: \", np.tile(a,3))\n",
        "print(\"repeat: \", np.repeat(a,3))"
      ],
      "metadata": {
        "colab": {
          "base_uri": "https://localhost:8080/"
        },
        "id": "GlykgYd3ePiA",
        "outputId": "3d2f5f9b-b3dd-446b-9e5b-d0edeb373536"
      },
      "execution_count": 69,
      "outputs": [
        {
          "output_type": "stream",
          "name": "stdout",
          "text": [
            "tile:  [1 2 3 1 2 3 1 2 3]\n",
            "repeat:  [1 1 1 2 2 2 3 3 3]\n"
          ]
        }
      ]
    },
    {
      "cell_type": "code",
      "source": [
        "# ambil unique dan jumlahnya\n",
        "unik, count = np.unique(b, return_counts=True)\n",
        "print(\"Unik: \", unik)\n",
        "print(\"Count: \", count)"
      ],
      "metadata": {
        "colab": {
          "base_uri": "https://localhost:8080/"
        },
        "id": "gvjLCPBIe9aD",
        "outputId": "88f50acd-d9d3-48aa-d447-5cfdaadd5e0d"
      },
      "execution_count": 70,
      "outputs": [
        {
          "output_type": "stream",
          "name": "stdout",
          "text": [
            "Unik:  [  1   2   3   4   5   6   7 100]\n",
            "Count:  [1 1 2 1 1 1 1 1]\n"
          ]
        }
      ]
    },
    {
      "cell_type": "markdown",
      "source": [
        "#QUIZ"
      ],
      "metadata": {
        "id": "jHHZ-gSchDrG"
      }
    },
    {
      "cell_type": "markdown",
      "source": [
        "Fill in the blanks to make the factorial function return the factorial of n. Then, print the first 10 factorials (from 0 to 9) with the corresponding number. Remember that the factorial of a number is defined as the product of an integer and all integers before it. For example, the factorial of five (5!) is equal to 1*2*3*4*5=120. Also recall that the factorial of zero (0!) is equal to 1."
      ],
      "metadata": {
        "id": "HQ7wVieIiqkr"
      }
    },
    {
      "cell_type": "code",
      "source": [
        "def factorial(n):\n",
        "    result = 1\n",
        "    for x in range(1, ___):\n",
        "        result *= x\n",
        "    return result\n",
        "\n",
        "for n in range(___, ___):\n",
        "    print(n, factorial(n+1))"
      ],
      "metadata": {
        "id": "8Xbe437FhI1h"
      },
      "execution_count": null,
      "outputs": []
    },
    {
      "cell_type": "markdown",
      "source": [
        "Given a list of filenames, we want to rename all the files with extension hpp to the extension h. To do this, we would like to generate a new list called newfilenames, consisting of the new filenames. Fill in the blanks in the code using any of the methods you’ve learned thus far, like a for loop or a list comprehension."
      ],
      "metadata": {
        "id": "MQf1TI5bjQ3Q"
      }
    },
    {
      "cell_type": "code",
      "source": [
        "filenames = [\"program.c\", \"stdio.hpp\", \"sample.hpp\", \"a.out\", \"math.hpp\", \"hpp.out\"]\n",
        "# Generate newfilenames as a list containing the new filenames\n",
        "# using as many lines of code as your chosen method requires.\n",
        "newfilenames = [file.____('.hpp', '.h') for file in ___]\n",
        "\n",
        "print(newfilenames)\n",
        "# Should be [\"program.c\", \"stdio.h\", \"sample.h\", \"a.out\", \"math.h\", \"hpp.out\"]"
      ],
      "metadata": {
        "id": "buQCYZc4kDFe"
      },
      "execution_count": null,
      "outputs": []
    },
    {
      "cell_type": "markdown",
      "source": [
        "Write a script that prints the first 10 cube numbers (x**3), starting with x=1 and ending with x=10."
      ],
      "metadata": {
        "id": "1HlbBKzCjETB"
      }
    },
    {
      "cell_type": "code",
      "source": [
        "for x in range(___,___):\n",
        "    print(x**3)"
      ],
      "metadata": {
        "id": "ATpjYFOBjIpr"
      },
      "execution_count": null,
      "outputs": []
    }
  ]
}